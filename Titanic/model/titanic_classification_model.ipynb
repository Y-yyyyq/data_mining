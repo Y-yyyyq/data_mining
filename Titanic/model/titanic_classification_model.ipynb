{
 "cells": [
  {
   "cell_type": "code",
   "execution_count": null,
   "id": "d65999e7",
   "metadata": {},
   "outputs": [],
   "source": [
    "### Titanic Survival Prediction"
   ]
  },
  {
   "cell_type": "code",
   "execution_count": null,
   "id": "ed1dd639",
   "metadata": {},
   "outputs": [],
   "source": [
    "##1. Load libraries\n",
    "import pandas as pd\n",
    "import numpy as np\n",
    "import matplotlib.pyplot as plt\n",
    "import seaborn as sns\n",
    "from sklearn.ensemble import RandomForestClassifier\n",
    "from sklearn.model_selection import train_test_split\n",
    "from sklearn.metrics import classification_report, confusion_matrix, accuracy_score, roc_auc_score\n",
    "from sklearn.preprocessing import LabelEncoder\n",
    "import pickle"
   ]
  },
  {
   "cell_type": "code",
   "execution_count": null,
   "id": "dd0e6f69",
   "metadata": {},
   "outputs": [],
   "source": [
    "##2. Load data\n",
    "train_df = pd.read_csv('../data/train.csv')\n",
    "test_df = pd.read_csv('../data/test.csv')"
   ]
  },
  {
   "cell_type": "code",
   "execution_count": null,
   "id": "7cd56920",
   "metadata": {},
   "outputs": [],
   "source": [
    "##3. Preprocessing\n",
    "def preprocess(df):\n",
    "    df = df.copy()\n",
    "    df['Age'].fillna(df['Age'].median(), inplace=True)\n",
    "    df['Embarked'].fillna(df['Embarked'].mode()[0], inplace=True)\n",
    "    df['Fare'].fillna(df['Fare'].median(), inplace=True)\n",
    "    df.drop(['Cabin', 'Name', 'Ticket'], axis=1, inplace=True)\n",
    "\n",
    "    le = LabelEncoder()\n",
    "    df['Sex'] = le.fit_transform(df['Sex'])\n",
    "    df['Embarked'] = le.fit_transform(df['Embarked'])\n",
    "\n",
    "    return df\n",
    "\n",
    "train_processed = preprocess(train_df)\n",
    "test_processed = preprocess(test_df)\n",
    "\n",
    "X = train_processed.drop(['Survived', 'PassengerId'], axis=1)\n",
    "y = train_processed['Survived']"
   ]
  },
  {
   "cell_type": "code",
   "execution_count": null,
   "id": "1846f7eb",
   "metadata": {},
   "outputs": [],
   "source": [
    "##4. Train/test split\n",
    "X_train, X_val, y_train, y_val = train_test_split(X, y, test_size=0.2, random_state=42)"
   ]
  },
  {
   "cell_type": "code",
   "execution_count": null,
   "id": "ff137730",
   "metadata": {},
   "outputs": [],
   "source": [
    "##5. Train model\n",
    "clf = RandomForestClassifier(n_estimators=100, random_state=42)\n",
    "clf.fit(X_train, y_train)"
   ]
  },
  {
   "cell_type": "code",
   "execution_count": null,
   "id": "95cb7896",
   "metadata": {},
   "outputs": [],
   "source": [
    "##6. Evaluation\n",
    "y_pred = clf.predict(X_val)\n",
    "print(\"Accuracy:\", accuracy_score(y_val, y_pred))\n",
    "print(\"Confusion Matrix:\\n\", confusion_matrix(y_val, y_pred))\n",
    "print(\"Classification Report:\\n\", classification_report(y_val, y_pred))"
   ]
  },
  {
   "cell_type": "code",
   "execution_count": null,
   "id": "e994d01e",
   "metadata": {},
   "outputs": [],
   "source": [
    "##7. Save model\n",
    "with open('../models/titanic_model.pkl', 'wb') as f:\n",
    "    pickle.dump(clf, f)"
   ]
  },
  {
   "cell_type": "code",
   "execution_count": null,
   "id": "6ddd7290",
   "metadata": {},
   "outputs": [],
   "source": [
    "##8. Predict on test data\n",
    "test_passenger_ids = test_processed['PassengerId']\n",
    "X_test_final = test_processed.drop(['PassengerId'], axis=1)\n",
    "test_predictions = clf.predict(X_test_final)\n",
    "\n",
    "submission = pd.DataFrame({'PassengerId': test_passenger_ids, 'Survived': test_predictions})\n",
    "submission.to_csv('../data/my_submission.csv', index=False)\n",
    "print(\"Submission file created.\")"
   ]
  }
 ],
 "metadata": {},
 "nbformat": 4,
 "nbformat_minor": 5
}
