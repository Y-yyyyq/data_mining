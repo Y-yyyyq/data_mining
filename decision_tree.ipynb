{
 "cells": [
  {
   "cell_type": "markdown",
   "id": "3602b213-4a92-4446-bdc1-958020c4db7b",
   "metadata": {},
   "source": [
    "# problem 1"
   ]
  },
  {
   "cell_type": "code",
   "execution_count": 12,
   "id": "a95213fd-1c7b-4dcd-8d1f-0e18a15a39de",
   "metadata": {},
   "outputs": [
    {
     "name": "stdout",
     "output_type": "stream",
     "text": [
      "Depth | Precision | Recall | F1 Score\n",
      "1     | 0.5667  | 0.7111 | 0.6148\n",
      "2     | 0.9794  | 0.9778 | 0.9777\n",
      "3     | 1.0000  | 1.0000 | 1.0000\n",
      "4     | 1.0000  | 1.0000 | 1.0000\n",
      "5     | 1.0000  | 1.0000 | 1.0000\n"
     ]
    }
   ],
   "source": [
    "from sklearn.datasets import load_iris\n",
    "from sklearn.model_selection import train_test_split\n",
    "from sklearn.tree import DecisionTreeClassifier\n",
    "from sklearn.metrics import precision_score, recall_score, f1_score\n",
    "\n",
    "# Load dataset\n",
    "iris = load_iris()\n",
    "X = iris.data\n",
    "y = iris.target\n",
    "\n",
    "# Split the dataset into training and testing sets\n",
    "X_train, X_test, y_train, y_test = train_test_split(X, y, test_size=0.3, random_state=42)\n",
    "\n",
    "# Train decision tree models and evaluate performance at different depths\n",
    "results = []\n",
    "for depth in range(1, 6):\n",
    "    clf = DecisionTreeClassifier(max_depth=depth, min_samples_split=5, min_samples_leaf=2, random_state=42)\n",
    "    clf.fit(X_train, y_train)\n",
    "    y_pred = clf.predict(X_test)\n",
    "    \n",
    "    precision = precision_score(y_test, y_pred, average='weighted', zero_division=0)\n",
    "    recall = recall_score(y_test, y_pred, average='weighted')\n",
    "    f1 = f1_score(y_test, y_pred, average='weighted')\n",
    "    \n",
    "    results.append((depth, precision, recall, f1))\n",
    "\n",
    "# Print results\n",
    "print(\"Depth | Precision | Recall | F1 Score\")\n",
    "for depth, precision, recall, f1 in results:\n",
    "    print(f\"{depth}     | {precision:.4f}  | {recall:.4f} | {f1:.4f}\")"
   ]
  },
  {
   "cell_type": "markdown",
   "id": "4697df7b-da68-4ae2-97fd-6cd916d68460",
   "metadata": {},
   "source": [
    "# problem2"
   ]
  },
  {
   "cell_type": "code",
   "execution_count": 13,
   "id": "0952603f-4109-466a-b911-9cc8ee10b055",
   "metadata": {},
   "outputs": [
    {
     "name": "stdout",
     "output_type": "stream",
     "text": [
      "Feature Importances: [0.         0.87326695 0.08084315 0.         0.         0.0458899\n",
      " 0.         0.         0.        ]\n"
     ]
    }
   ],
   "source": [
    "import pandas as pd\n",
    "from sklearn.tree import DecisionTreeClassifier\n",
    "\n",
    "# Load dataset\n",
    "url = \"https://archive.ics.uci.edu/ml/machine-learning-databases/breast-cancer-wisconsin/breast-cancer-wisconsin.data\"\n",
    "columns = ['id', 'Clump Thickness', 'Uniformity of Cell Size', 'Uniformity of Cell Shape', \n",
    "           'Marginal Adhesion', 'Single Epithelial Cell Size', 'Bare Nuclei', \n",
    "           'Bland Chromatin', 'Normal Nucleoli', 'Mitoses', 'Class']\n",
    "df = pd.read_csv(url, names=columns)\n",
    "df.replace('?', pd.NA, inplace=True)\n",
    "df.dropna(inplace=True)\n",
    "\n",
    "# Features and target variables\n",
    "X = df.iloc[:, 1:-1]\n",
    "y = df['Class'].apply(lambda x: 0 if x == 2 else 1)  # Convert classes to 0 and 1\n",
    "\n",
    "# Train the decision tree model\n",
    "clf = DecisionTreeClassifier(max_depth=2, min_samples_split=5, min_samples_leaf=2, random_state=42)\n",
    "clf.fit(X, y)\n",
    "\n",
    "# Calculate feature importance\n",
    "print(\"Feature Importances:\", clf.feature_importances_)"
   ]
  },
  {
   "cell_type": "markdown",
   "id": "e276244e-8c38-4c8a-8b23-a08d4c27a305",
   "metadata": {},
   "source": [
    "# problem3"
   ]
  },
  {
   "cell_type": "code",
   "execution_count": 14,
   "id": "98b7fd3d-44bb-47bc-8296-d0035a59616f",
   "metadata": {},
   "outputs": [
    {
     "name": "stdout",
     "output_type": "stream",
     "text": [
      "Confusion Matrix:\n",
      " [[429  15]\n",
      " [  1 238]]\n",
      "Precision: 0.9407114624505929\n",
      "Recall: 0.99581589958159\n",
      "F1 Score: 0.967479674796748\n"
     ]
    }
   ],
   "source": [
    "from sklearn.decomposition import PCA\n",
    "from sklearn.metrics import confusion_matrix, precision_score, recall_score, f1_score\n",
    "\n",
    "# PCA for dimensionality reduction\n",
    "pca = PCA(n_components=2)\n",
    "X_pca = pca.fit_transform(X)\n",
    "\n",
    "# Train the decision tree model on PCA-transformed data\n",
    "clf_pca = DecisionTreeClassifier(max_depth=2, min_samples_split=5, min_samples_leaf=2, random_state=42)\n",
    "clf_pca.fit(X_pca, y)\n",
    "\n",
    "# Evaluate the model\n",
    "y_pred_pca = clf_pca.predict(X_pca)\n",
    "cm = confusion_matrix(y, y_pred_pca)\n",
    "precision = precision_score(y, y_pred_pca)\n",
    "recall = recall_score(y, y_pred_pca)\n",
    "f1 = f1_score(y, y_pred_pca)\n",
    "\n",
    "print(\"Confusion Matrix:\\n\", cm)\n",
    "print(\"Precision:\", precision)\n",
    "print(\"Recall:\", recall)\n",
    "print(\"F1 Score:\", f1)"
   ]
  },
  {
   "cell_type": "code",
   "execution_count": null,
   "id": "756bd69a-321d-46f5-9c38-a139fc7ec73b",
   "metadata": {},
   "outputs": [],
   "source": []
  }
 ],
 "metadata": {
  "kernelspec": {
   "display_name": "Python 3 (ipykernel)",
   "language": "python",
   "name": "python3"
  },
  "language_info": {
   "codemirror_mode": {
    "name": "ipython",
    "version": 3
   },
   "file_extension": ".py",
   "mimetype": "text/x-python",
   "name": "python",
   "nbconvert_exporter": "python",
   "pygments_lexer": "ipython3",
   "version": "3.12.0"
  }
 },
 "nbformat": 4,
 "nbformat_minor": 5
}
